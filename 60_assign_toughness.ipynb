{
 "cells": [
  {
   "cell_type": "markdown",
   "id": "1dd33a16-e40f-455d-86e5-dce083e35f66",
   "metadata": {},
   "source": [
    "## 評価者の総合評価平均値を算出する"
   ]
  },
  {
   "cell_type": "code",
   "execution_count": null,
   "id": "ad5694d2-f4ac-477a-b71c-0d3bc8dedd00",
   "metadata": {},
   "outputs": [],
   "source": [
    "import pandas as pd\n",
    "df = pd.read_csv(\"df_check_11.csv\", index_col=0)\n",
    "df"
   ]
  },
  {
   "cell_type": "code",
   "execution_count": null,
   "id": "2ec80a05-1cbe-4a90-90c1-f03fbe57c763",
   "metadata": {},
   "outputs": [],
   "source": [
    "li = df['評価会社'].unique().tolist()\n",
    "li\n"
   ]
  },
  {
   "cell_type": "code",
   "execution_count": null,
   "id": "9fe5a63c-34e4-4478-9fd4-20424115db0d",
   "metadata": {},
   "outputs": [],
   "source": [
    "def replace_value(df: pd.DataFrame, colname: str, li: list, repword) -> pd.DataFrame:\n",
    "    \"\"\"\n",
    "    dfのcolnameのカラムについて、liで設定されたリストの値をrepwordの値に置換する\n",
    "    \"\"\"\n",
    "    out = df.copy()\n",
    "    out[colname] = out[colname].replace(li, repword)\n",
    "    return out\n"
   ]
  },
  {
   "cell_type": "code",
   "execution_count": null,
   "id": "397c2036-51ce-4f8e-8322-82a6bfbdc0e6",
   "metadata": {},
   "outputs": [],
   "source": [
    "li=[\n",
    " '(株)グローバル・グループ 21 ジャパン',\n",
    " '（株）グローバル・グループ 21 ジャパン',\n",
    " '(株)グローバル・グループ21 ジャパン',\n",
    " '(株)グローバル・グループ21ジャパン',\n",
    " '株式会社グローバル・グループ 21 ジャパン',\n",
    " '株式会社グローバル・グループ21 ジャパン',\n",
    " '株式会社グローバル・グループ21ジャパン',\n",
    " '株式会社グローバルグループ21ジャパン',\n",
    "]\n",
    "df = replace_value(df=df, colname=\"評価会社\", li=li, repword=\"株式会社グローバル・グループ21ジャパン\")\n"
   ]
  },
  {
   "cell_type": "code",
   "execution_count": null,
   "id": "5e3feefe-1bfa-4997-b05e-6378203133d2",
   "metadata": {},
   "outputs": [],
   "source": [
    "li=[\n",
    " '(株) タックインターナショナル',\n",
    " '(株)タックインターナショナル',\n",
    " 'タック・インターナショナル',\n",
    " '株式会社タックインターナショナル',\n",
    "]\n",
    "df = replace_value(df=df, colname=\"評価会社\", li=li, repword=\"株式会社タック・インターナショナル\")\n"
   ]
  },
  {
   "cell_type": "code",
   "execution_count": null,
   "id": "c420574d-a25a-451c-9a1c-b19565a9a347",
   "metadata": {},
   "outputs": [],
   "source": [
    "li=[\n",
    " 'EY 新日本サステナビリティ(株)',\n",
    " 'EY 新日本有限責任監査法人',\n",
    " 'EYアドバイザリー・アンド・コンサルティング株式会社',\n",
    " 'EY新日本有限責任監査法人',\n",
    " 'アーンスト・アンド・ヤング・アドバイザリー(株)',\n",
    " 'アーンスト・アンド・ヤング・アドバイザリー株式会社',\n",
    " '新日本サステナビリティ(株)',\n",
    " '新日本サステナビリティ株式会社',\n",
    " '新日本有限責任監査法人'\n",
    "]\n",
    "df = replace_value(df=df, colname=\"評価会社\", li=li, repword=\"EY 新日本サステナビリティ株式会社\")\n"
   ]
  },
  {
   "cell_type": "code",
   "execution_count": null,
   "id": "a3892a5b-f728-429f-94e3-58868c63c975",
   "metadata": {},
   "outputs": [],
   "source": [
    "li=[\n",
    " '(一般財団法人)国際開発機構',\n",
    " '一般財団法人 国際開発機構',\n",
    " '一般財団法人国際開発機構',\n",
    "]\n",
    "df = replace_value(df=df, colname=\"評価会社\", li=li, repword=\"一般財団法人国際開発機構\")\n"
   ]
  },
  {
   "cell_type": "code",
   "execution_count": null,
   "id": "cf1dbcec-b549-4c68-a101-bd3e2065adf2",
   "metadata": {},
   "outputs": [],
   "source": [
    "li=[\n",
    " '(株)国際開発センター',\n",
    " '株式会社 国際開発センター',\n",
    " '国際開発センター',\n",
    "]\n",
    "df = replace_value(df=df, colname=\"評価会社\", li=li, repword=\"株式会社国際開発センター\")\n"
   ]
  },
  {
   "cell_type": "code",
   "execution_count": null,
   "id": "1b0d4931-a591-4532-bb45-fd2e1366bf00",
   "metadata": {},
   "outputs": [],
   "source": [
    "li=[\n",
    " 'アイ・シー・ネット(株)',\n",
    " 'アイシーネット株式会社',\n",
    "]\n",
    "df = replace_value(df=df, colname=\"評価会社\", li=li, repword=\"アイ・シー・ネット株式会社\")\n"
   ]
  },
  {
   "cell_type": "code",
   "execution_count": null,
   "id": "a6f153cf-463c-4708-a53e-3731667587ab",
   "metadata": {},
   "outputs": [],
   "source": [
    "li=[\n",
    " '三菱 UFJ リサーチ&コンサルティング株式会社',\n",
    " '三菱 UFJリサーチ&コンサルティング株式会社',\n",
    " '三菱UFJリサーチ&コンサルティング',\n",
    "]\n",
    "df = replace_value(df=df, colname=\"評価会社\", li=li, repword=\"三菱UFJリサーチ&コンサルティング株式会社\")\n"
   ]
  },
  {
   "cell_type": "code",
   "execution_count": null,
   "id": "198faf04-dc2d-4576-94ab-a6dccacf1df8",
   "metadata": {},
   "outputs": [],
   "source": [
    "li=[\n",
    " '三菱 UFJ リサーチ&コンサルティング株式会社, PB ジャパン株式会社',\n",
    " '三菱UFJリサーチ&コンサルティング株式会社, PB ジャパン株式会社',\n",
    " '三菱UFJリサーチ&コンサルティング株式会社',\n",
    "]\n",
    "df = replace_value(df=df, colname=\"評価会社\", li=li, repword=\"三菱UFJリサーチ&コンサルティング株式会社, PBジャパン株式会社\")\n"
   ]
  },
  {
   "cell_type": "code",
   "execution_count": null,
   "id": "b4bbb9f2-16c3-4cc2-8248-c7b5f4a84d04",
   "metadata": {},
   "outputs": [],
   "source": [
    "li=[\n",
    " '三菱 UFJ リサーチ&コンサルティング株式会社, PB ジャパン株式会社',\n",
    " '三菱UFJリサーチ&コンサルティング株式会社, PB ジャパン株式会社',\n",
    " '三菱UFJリサーチ&コンサルティング株式会社',\n",
    "]\n",
    "df = replace_value(df=df, colname=\"評価会社\", li=li, repword=\"三菱UFJリサーチ&コンサルティング株式会社, PBジャパン株式会社\")\n"
   ]
  },
  {
   "cell_type": "code",
   "execution_count": null,
   "id": "ec4ee7bf-ef78-4c00-902f-c933e4aeb250",
   "metadata": {},
   "outputs": [],
   "source": [
    "li=[\n",
    " 'アルメック VPI',\n",
    " '株式会社アルメック VPI',\n",
    " '株式会社アルメックVPI',\n",
    "]\n",
    "df = replace_value(df=df, colname=\"評価会社\", li=li, repword=\"株式会社アルメック\")\n"
   ]
  },
  {
   "cell_type": "code",
   "execution_count": null,
   "id": "a2b78d19-d2d7-44f1-a04e-baf073a47f80",
   "metadata": {},
   "outputs": [],
   "source": [
    "li=[\n",
    " 'Value Frontier 株式会社',\n",
    " 'Value Frontier(株)',\n",
    "]\n",
    "df = replace_value(df=df, colname=\"評価会社\", li=li, repword=\"Value Frontier 株式会社\")\n"
   ]
  },
  {
   "cell_type": "code",
   "execution_count": null,
   "id": "57d0a282-1eae-4ea6-9629-b73cc09eb0be",
   "metadata": {},
   "outputs": [],
   "source": [
    "li=[\n",
    " '（財）国際開発高等教育機構',\n",
    "]\n",
    "df = replace_value(df=df, colname=\"評価会社\", li=li, repword=\"財団法人国際開発高等教育機構\")\n"
   ]
  },
  {
   "cell_type": "code",
   "execution_count": null,
   "id": "9d5c7dd2-b45e-4bfc-8ce4-a0d97c50ec12",
   "metadata": {},
   "outputs": [],
   "source": [
    "li=[\n",
    " 'インテムコンサルティング',\n",
    " 'インテムコンサルティング株式会社',\n",
    "]\n",
    "df = replace_value(df=df, colname=\"評価会社\", li=li, repword=\"インテムコンサルティング株式会社\")\n"
   ]
  },
  {
   "cell_type": "code",
   "execution_count": null,
   "id": "fa852a82-9a52-484e-afa2-caa1eb21c699",
   "metadata": {},
   "outputs": [],
   "source": [
    "li=[\n",
    " '株式会社アースアンドコーポレーション',\n",
    "]\n",
    "df = replace_value(df=df, colname=\"評価会社\", li=li, repword=\"株式会社アースアンドヒューマンコーポレーション\")\n"
   ]
  },
  {
   "cell_type": "code",
   "execution_count": null,
   "id": "bbb80008-7951-4201-a0b1-7a062042543e",
   "metadata": {},
   "outputs": [],
   "source": [
    "li=[\n",
    " 'コーエイ総合研究所',\n",
    "]\n",
    "df = replace_value(df=df, colname=\"評価会社\", li=li, repword=\"株式会社コーエイ総合研究所\")\n"
   ]
  },
  {
   "cell_type": "code",
   "execution_count": null,
   "id": "45f18174-28f9-4618-92fc-ae49a05eb4fb",
   "metadata": {},
   "outputs": [],
   "source": [
    "li=[\n",
    " '株式会社日本経済研究所',\n",
    " '日本経済研究所',\n",
    "]\n",
    "df = replace_value(df=df, colname=\"評価会社\", li=li, repword=\"株式会社日本経済研究所\")\n"
   ]
  },
  {
   "cell_type": "code",
   "execution_count": null,
   "id": "df63dfa3-52da-4282-b6b3-4ec9c6e9d9e6",
   "metadata": {},
   "outputs": [],
   "source": [
    "# jica事務所の表記揺れ修正\n",
    "df['評価会社'] = df['評価会社'].astype(str).str.replace('東チモール事務所', '東ティモール事務所', regex=False)\n",
    "df['評価会社'] = df['評価会社'].astype(str).str.replace('中華人民共和国事務所', '中国事務所', regex=False)\n",
    "df['評価会社'] = df['評価会社'].astype(str).str.replace('JICA', '', regex=False)\n",
    "df['評価会社'] = df['評価会社'].astype(str).str.replace(' ', '', regex=False)\n",
    "df['評価会社'] = df['評価会社'].astype(str).str.replace('　', '', regex=False)\n",
    "df['評価会社'] = df['評価会社'].astype(str).str.replace('民主共和国', '', regex=False)\n",
    "df['評価会社'] = df['評価会社'].astype(str).str.replace('共和国', '', regex=False)\n",
    "df['評価会社'] = df['評価会社'].astype(str).str.replace('支所', '事務所', regex=False)\n",
    "df['評価会社'] = df['評価会社'].astype(str).str.replace('駐在員', '', regex=False)\n"
   ]
  },
  {
   "cell_type": "code",
   "execution_count": null,
   "id": "bb6d914e-11b9-4a50-b85b-10f60f578d78",
   "metadata": {},
   "outputs": [],
   "source": [
    "no_replace = ['中国事務所', '中華人民共和国事務所']\n",
    "\n",
    "df['評価会社'] = df['評価会社'].apply(\n",
    "    lambda s: (\n",
    "        s\n",
    "        if isinstance(s, str) and s in no_replace\n",
    "        else (s.replace('国事務所', '事務所') if isinstance(s, str) else s)\n",
    "    )\n",
    ")"
   ]
  },
  {
   "cell_type": "code",
   "execution_count": null,
   "id": "35e02ce4-9764-4385-b459-029f29c9622f",
   "metadata": {},
   "outputs": [],
   "source": [
    "col = '評価会社' \n",
    "unique_sorted = sorted(df[col].dropna().unique())\n",
    "unique_sorted"
   ]
  },
  {
   "cell_type": "code",
   "execution_count": null,
   "id": "cc37179a-b0a9-456a-8596-ae1f94fbed8e",
   "metadata": {},
   "outputs": [],
   "source": [
    "import matplotlib.pyplot as plt\n",
    "import japanize_matplotlib\n",
    "\n",
    "# 総合評価を数値に変換\n",
    "df['total_eval'] = df['総合評価'].map({'非常に高い': 4, '高い': 3, '中程度': 2,'一部課題がある': 2, '一部に課題があると判断される': 2, '低い': 1,'非常に低い': 1})\n",
    "\n",
    "\n",
    "df_agg = df.groupby('評価会社')['total_eval'].agg(['mean', 'count']).reset_index()\n",
    "\n",
    "# Rename columns for clarity\n",
    "df_agg.columns = ['Evaluator Group', 'Average Total Eval', 'Count']\n",
    "\n",
    "# Sort for better visualization\n",
    "df_agg = df_agg.sort_values('Average Total Eval')\n",
    "\n",
    "# Create a bar chart of the average total eval\n",
    "plt.figure(figsize=(50, 30))\n",
    "plt.bar(df_agg['Evaluator Group'], df_agg['Average Total Eval'])\n",
    "plt.xlabel('評価者グループ')\n",
    "plt.ylabel('合計評価の平均')\n",
    "plt.title('評価者グループごとの合計評価平均')\n",
    "plt.xticks(rotation=45, ha='right')\n",
    "plt.tight_layout()\n",
    "plt.show()\n",
    "\n",
    "# Print the aggregated dataframe\n",
    "print(\"Evaluator Groupごとの合計評価の平均と集約数:\")\n",
    "df_agg\n"
   ]
  },
  {
   "cell_type": "code",
   "execution_count": null,
   "id": "b419e55d-f6e2-4cf3-ab01-d0f26c32b58b",
   "metadata": {},
   "outputs": [],
   "source": [
    "print(df_agg.columns.tolist())"
   ]
  },
  {
   "cell_type": "code",
   "execution_count": null,
   "id": "12ddb3cf-c98a-477a-8d22-8657466163b6",
   "metadata": {},
   "outputs": [],
   "source": [
    "\n",
    "def calculate_group_mean_excluding_self(row, df, group_col, value_col):\n",
    "  \"\"\"\n",
    "  Calculates the mean of 'value_col' for the group in 'group_col' that the row belongs to,\n",
    "  excluding the value from the current row.\n",
    "  \"\"\"\n",
    "  group_data = df[df[group_col] == row[group_col]]\n",
    "  sum_excluding_self = group_data[value_col].sum() - row[value_col]\n",
    "  count_excluding_self = group_data[value_col].count() - 1\n",
    "\n",
    "  if count_excluding_self > 0:\n",
    "    return sum_excluding_self / count_excluding_self\n",
    "  else:\n",
    "    # Handle the case where the group only has one member (the current row)\n",
    "    return None\n",
    "\n",
    "df['avg_outcome_evalator'] = df.apply(\n",
    "    lambda row: calculate_group_mean_excluding_self(row, df, '評価会社', 'total_eval'),\n",
    "    axis=1\n",
    ")\n",
    "\n",
    "df\n",
    "\n"
   ]
  },
  {
   "cell_type": "code",
   "execution_count": null,
   "id": "484fb836-9a4f-4c8a-b923-dc80091a4bf7",
   "metadata": {},
   "outputs": [],
   "source": [
    "# 検算\n",
    "col=['評価会社','案件名','total_eval', 'avg_outcome_evalator']\n",
    "df[df['評価会社']=='ガボン事務所'][col]"
   ]
  },
  {
   "cell_type": "code",
   "execution_count": null,
   "id": "aa3d3395-2bc3-40c2-bbbd-e4956daed019",
   "metadata": {},
   "outputs": [],
   "source": [
    "df.to_csv(\"df_check_12.csv\")"
   ]
  },
  {
   "cell_type": "code",
   "execution_count": null,
   "id": "4dccdc8d-5a90-4520-baa6-51fbffb791a4",
   "metadata": {},
   "outputs": [],
   "source": []
  },
  {
   "cell_type": "code",
   "execution_count": null,
   "id": "d84e5874-0654-4fac-9152-db0a79cf5526",
   "metadata": {},
   "outputs": [],
   "source": []
  }
 ],
 "metadata": {
  "kernelspec": {
   "display_name": "Python 3 (ipykernel)",
   "language": "python",
   "name": "python3"
  },
  "language_info": {
   "codemirror_mode": {
    "name": "ipython",
    "version": 3
   },
   "file_extension": ".py",
   "mimetype": "text/x-python",
   "name": "python",
   "nbconvert_exporter": "python",
   "pygments_lexer": "ipython3",
   "version": "3.10.12"
  }
 },
 "nbformat": 4,
 "nbformat_minor": 5
}
