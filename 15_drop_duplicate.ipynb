{
 "cells": [
  {
   "cell_type": "markdown",
   "id": "e4d4fce2-0ed3-4234-b17a-7a07c08c6083",
   "metadata": {},
   "source": [
    "## 複数フェーズで同じ事業評価書になっているレコードを重複排除する"
   ]
  },
  {
   "cell_type": "code",
   "execution_count": null,
   "id": "d9425434-db01-47ab-842a-5258d5f43ba0",
   "metadata": {},
   "outputs": [],
   "source": [
    "import pandas as pd\n",
    "df_ori = pd.read_csv('df_check_pro.csv')\n",
    "\n",
    "count = len(df_ori)\n",
    "print(f\"レコード数: {count}\")\n"
   ]
  },
  {
   "cell_type": "code",
   "execution_count": null,
   "id": "582ce56c-d40a-4224-9ff8-0630453c65ed",
   "metadata": {},
   "outputs": [],
   "source": [
    "def add_sequential_number_groupby(df, key_column, new_column_name='sequential_id'):\n",
    "  \"\"\"\n",
    "  特定のカラムをキーに連番を付与する\n",
    "\n",
    "  Args:\n",
    "    df (pd.DataFrame): 対象のDataFrame\n",
    "    key_column (str): キーとなるカラム名\n",
    "    new_column_name (str): 新しい連番カラム名\n",
    "\n",
    "  Returns:\n",
    "    pd.DataFrame: 連番カラムが追加されたDataFrame\n",
    "  \"\"\"\n",
    "  df[new_column_name] = df.groupby(key_column, dropna=False).cumcount(ascending=False) + 1\n",
    "  return df\n",
    "\n",
    "# keyが同じものを重複プロジェクトとして削除する\n",
    "# webサイトのつくり上、フェーズ１と２が分かれて掲載されているが、どちらも同じPDFファイルの場合重複を削除する\n",
    "key = ['国名','プロジェクト期','プロジェクトコスト_計画時_int', 'プロジェクトコスト_実績_int','プロジェクト期間開始_計画時','プロジェクト期間終了_計画時', 'file']\n",
    "df = df_ori.sort_values(key)\n",
    "\n",
    "key.remove('file')\n",
    "df = add_sequential_number_groupby(df, key, new_column_name='連番')\n",
    "df = df[df['連番']==1]\n",
    "count = len(df)\n",
    "print(f\"レコード数: {count}\")"
   ]
  },
  {
   "cell_type": "code",
   "execution_count": null,
   "id": "e00829d2-0733-499a-8540-7fe6b2005167",
   "metadata": {},
   "outputs": [],
   "source": [
    "# 除外されたものを確認\n",
    "outer_join = df_ori.merge(df, how = 'outer', indicator = True)\n",
    "anti_join = outer_join[~(outer_join._merge == 'both')].drop('_merge', axis = 1)\n",
    "# 削除件数一致の確認\n",
    "assert len(anti_join) == len(df_ori) - len(df)\n",
    "anti_join.head(5)"
   ]
  },
  {
   "cell_type": "code",
   "execution_count": null,
   "id": "21d57cd0-5044-4d87-b065-8a56c98de19a",
   "metadata": {},
   "outputs": [],
   "source": [
    "# 重複レコードを結合して除外\n",
    "df_check = df_ori.merge(anti_join, on=key, how = 'inner')\n",
    "df_check.to_csv(\"duplicate_check_pro.csv\")"
   ]
  },
  {
   "cell_type": "code",
   "execution_count": null,
   "id": "e33b0296-e94f-4d05-9970-06ffc35967ec",
   "metadata": {},
   "outputs": [],
   "source": [
    "df.to_csv(\"df_check_3.csv\")"
   ]
  }
 ],
 "metadata": {
  "kernelspec": {
   "display_name": "Python 3 (ipykernel)",
   "language": "python",
   "name": "python3"
  },
  "language_info": {
   "codemirror_mode": {
    "name": "ipython",
    "version": 3
   },
   "file_extension": ".py",
   "mimetype": "text/x-python",
   "name": "python",
   "nbconvert_exporter": "python",
   "pygments_lexer": "ipython3",
   "version": "3.10.12"
  }
 },
 "nbformat": 4,
 "nbformat_minor": 5
}
